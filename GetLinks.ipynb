{
 "cells": [
  {
   "cell_type": "code",
   "execution_count": 10,
   "metadata": {},
   "outputs": [],
   "source": [
    "from urllib.request import urlopen\n",
    "from urllib.robotparser import RobotFileParser\n",
    "from bs4 import BeautifulSoup as bs\n",
    "import re\n",
    "import ssl\n",
    "import sqlite3\n",
    "\n",
    "# Ignore SSL certificate errors\n",
    "ctx = ssl.create_default_context()\n",
    "ctx.check_hostname = False\n",
    "ctx.verify_mode = ssl.CERT_NONE"
   ]
  },
  {
   "cell_type": "code",
   "execution_count": 26,
   "metadata": {},
   "outputs": [],
   "source": [
    "conn = sqlite3.connect('/mnt/d/Users/Taina/Documents/Python/Goodreads.sqlite')\n",
    "cur = conn.cursor()\n",
    "\n",
    "cur.executescript('''CREATE TABLE IF NOT EXISTS Links (\n",
    "    link  TEXT UNIQUE,\n",
    "    retrieved INTEGER\n",
    ")''')\n",
    "\n",
    "conn.commit()"
   ]
  },
  {
   "cell_type": "code",
   "execution_count": 1,
   "metadata": {},
   "outputs": [
    {
     "ename": "NameError",
     "evalue": "name 'RobotFileParser' is not defined",
     "output_type": "error",
     "traceback": [
      "\u001b[0;31m---------------------------------------------------------------------------\u001b[0m",
      "\u001b[0;31mNameError\u001b[0m                                 Traceback (most recent call last)",
      "\u001b[0;32m<ipython-input-1-9298ba9d2b0b>\u001b[0m in \u001b[0;36m<module>\u001b[0;34m\u001b[0m\n\u001b[1;32m     39\u001b[0m \u001b[0minitial_url\u001b[0m \u001b[0;34m=\u001b[0m \u001b[0;34m'https://www.goodreads.com'\u001b[0m\u001b[0;34m\u001b[0m\u001b[0;34m\u001b[0m\u001b[0m\n\u001b[1;32m     40\u001b[0m \u001b[0;34m\u001b[0m\u001b[0m\n\u001b[0;32m---> 41\u001b[0;31m \u001b[0mrp\u001b[0m \u001b[0;34m=\u001b[0m \u001b[0mrobotParser\u001b[0m\u001b[0;34m(\u001b[0m\u001b[0minitial_url\u001b[0m\u001b[0;34m)\u001b[0m\u001b[0;34m\u001b[0m\u001b[0;34m\u001b[0m\u001b[0m\n\u001b[0m\u001b[1;32m     42\u001b[0m \u001b[0;34m\u001b[0m\u001b[0m\n\u001b[1;32m     43\u001b[0m \u001b[0murl\u001b[0m \u001b[0;34m=\u001b[0m \u001b[0;34m'/choiceawards/best-books-2019'\u001b[0m\u001b[0;34m\u001b[0m\u001b[0;34m\u001b[0m\u001b[0m\n",
      "\u001b[0;32m<ipython-input-1-9298ba9d2b0b>\u001b[0m in \u001b[0;36mrobotParser\u001b[0;34m(initial_url)\u001b[0m\n\u001b[1;32m      1\u001b[0m \u001b[0;32mdef\u001b[0m \u001b[0mrobotParser\u001b[0m\u001b[0;34m(\u001b[0m\u001b[0minitial_url\u001b[0m\u001b[0;34m)\u001b[0m\u001b[0;34m:\u001b[0m\u001b[0;34m\u001b[0m\u001b[0;34m\u001b[0m\u001b[0m\n\u001b[1;32m      2\u001b[0m \u001b[0;34m\u001b[0m\u001b[0m\n\u001b[0;32m----> 3\u001b[0;31m     \u001b[0mrp\u001b[0m \u001b[0;34m=\u001b[0m \u001b[0mRobotFileParser\u001b[0m\u001b[0;34m(\u001b[0m\u001b[0;34m)\u001b[0m\u001b[0;34m\u001b[0m\u001b[0;34m\u001b[0m\u001b[0m\n\u001b[0m\u001b[1;32m      4\u001b[0m     \u001b[0mrp\u001b[0m\u001b[0;34m.\u001b[0m\u001b[0mset_url\u001b[0m\u001b[0;34m(\u001b[0m\u001b[0minitial_url\u001b[0m \u001b[0;34m+\u001b[0m \u001b[0;34m'/robots.txt'\u001b[0m\u001b[0;34m)\u001b[0m\u001b[0;34m\u001b[0m\u001b[0;34m\u001b[0m\u001b[0m\n\u001b[1;32m      5\u001b[0m     \u001b[0mrp\u001b[0m\u001b[0;34m.\u001b[0m\u001b[0mread\u001b[0m\u001b[0;34m(\u001b[0m\u001b[0;34m)\u001b[0m\u001b[0;34m\u001b[0m\u001b[0;34m\u001b[0m\u001b[0m\n",
      "\u001b[0;31mNameError\u001b[0m: name 'RobotFileParser' is not defined"
     ]
    }
   ],
   "source": [
    "def robotParser(initial_url):\n",
    "    \n",
    "    rp = RobotFileParser()\n",
    "    rp.set_url(initial_url + '/robots.txt')\n",
    "    rp.read()\n",
    "    \n",
    "    return rp\n",
    "    \n",
    "def getLinks(page_url, initial_url, rp):\n",
    "    \n",
    "    #isso foi só para o link inicial, quando eu não tinha links na minha base de dados\n",
    "    #para não dar erro quando eu atualizo para 1 embaixo\n",
    "    cur.execute('''INSERT OR IGNORE INTO Links (link, retrieved) VALUES (?, 0)''', (page_url,))\n",
    "    conn.commit()\n",
    "    \n",
    "    try:\n",
    "        html = urlopen(initial_url + page_url, context = ctx)\n",
    "    except:\n",
    "        #usei o -1 para identificar links quebrados\n",
    "        cur.execute('UPDATE Links SET retrieved = -1 WHERE link = ?', (page_url,))\n",
    "        conn.commit()\n",
    "        return\n",
    "        \n",
    "    soup = bs(html)\n",
    "      \n",
    "    for link in soup.findAll('a'):\n",
    "        #ignorar itens sem link ou cujo link não seja do site goodreads\n",
    "        if 'href' not in link.attrs or not (link.attrs['href'].startswith('/') or link.attrs['href'].startswith('https://www.goodreads.com/')):\n",
    "            continue\n",
    "            \n",
    "        #padronizar os links que sobraram pra ficar somente o caminho, sem o goodreads inicial    \n",
    "        link = link.attrs['href'].replace('https://www.goodreads.com','')\n",
    "        \n",
    "        #garantir que seja permitindo pro robot fazer o scrapping\n",
    "        if not rp.can_fetch(\"*\", link):\n",
    "            continue\n",
    "        \n",
    "        #add link na minha base de dados, se ele já estiver na base não será adicionado\n",
    "        cur.execute('''INSERT OR IGNORE INTO Links (link, retrieved) VALUES (?, 0)''', (link,))\n",
    "        conn.commit()\n",
    "    \n",
    "    #marcando o link inicial como recuperado\n",
    "    cur.execute('UPDATE Links SET retrieved = 1 WHERE link = ?', (page_url,))\n",
    "    conn.commit()\n",
    "\n",
    "initial_url = 'https://www.goodreads.com'\n",
    "\n",
    "rp = robotParser(initial_url)\n",
    "\n",
    "url = '/choiceawards/best-books-2019'\n",
    "\n",
    "for i in range(20):\n",
    "    \n",
    "    print('retrieving from:', url)\n",
    "    print(20-i, 'to go!\\n')\n",
    "    \n",
    "    getLinks(url, initial_url, rp)\n",
    "   \n",
    "    try:\n",
    "        cur.execute('SELECT link FROM Links WHERE retrieved = 0 LIMIT 1')\n",
    "        url = cur.fetchone()[0]\n",
    "        \n",
    "    except:\n",
    "        #teoricamente seria quando não tem mais nenhum link com status retrieved = 0\n",
    "        print('all links retrieved!')\n",
    "        conn.close()\n",
    "        break"
   ]
  },
  {
   "cell_type": "code",
   "execution_count": 31,
   "metadata": {},
   "outputs": [],
   "source": [
    "#não esquecer de fechar a conexão\n",
    "conn.close()"
   ]
  },
  {
   "cell_type": "code",
   "execution_count": null,
   "metadata": {},
   "outputs": [],
   "source": []
  }
 ],
 "metadata": {
  "kernelspec": {
   "display_name": "Python 3",
   "language": "python",
   "name": "python3"
  },
  "language_info": {
   "codemirror_mode": {
    "name": "ipython",
    "version": 3
   },
   "file_extension": ".py",
   "mimetype": "text/x-python",
   "name": "python",
   "nbconvert_exporter": "python",
   "pygments_lexer": "ipython3",
   "version": "3.6.9"
  }
 },
 "nbformat": 4,
 "nbformat_minor": 4
}
